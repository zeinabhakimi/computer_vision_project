{
 "cells": [
  {
   "cell_type": "markdown",
   "metadata": {},
   "source": [
    "## SVM Classifier"
   ]
  },
  {
   "cell_type": "markdown",
   "metadata": {},
   "source": [
    "In this notebook, we will use the extracted features from last step and a Linear Support Vector Machine (SVM) to classify the test image set. The code for this experiment can be found in [svm_classify.py](https://github.com/MortezaRamezani/s17-cse586-p2/blob/master/p2src/svm_classify.py)."
   ]
  },
  {
   "cell_type": "code",
   "execution_count": 1,
   "metadata": {
    "collapsed": true
   },
   "outputs": [],
   "source": [
    "import matplotlib.pyplot as plt\n",
    "from p2src.svm_classify import *"
   ]
  },
  {
   "cell_type": "markdown",
   "metadata": {},
   "source": [
    "Here we are using the completed outputs of this code which have been save in the files below:"
   ]
  },
  {
   "cell_type": "code",
   "execution_count": 2,
   "metadata": {
    "collapsed": true
   },
   "outputs": [],
   "source": [
    "prediction = np.load('./results/svm_pred_res.npy')\n",
    "correct = np.load('./results/svm_test_res.npy')\n",
    "labels = np.array(['airplane', 'automobile', 'bird', 'cat',\n",
    "                            'deer', 'dog', 'frog', 'horse', 'ship', 'truck'])"
   ]
  },
  {
   "cell_type": "markdown",
   "metadata": {},
   "source": [
    "To show the accuracy of this method, we are using Confusion Matrix. The y axis is true label and x axis is predicted labels. The diagonal elements represent the number of points for which the predicted label is equal to the true label, while off-diagonal elements are those that are mislabeled by the classifier"
   ]
  },
  {
   "cell_type": "code",
   "execution_count": 3,
   "metadata": {
    "collapsed": false
   },
   "outputs": [
    {
     "name": "stdout",
     "output_type": "stream",
     "text": [
      "['airplane' 'automobile' 'bird' 'cat' 'deer' 'dog' 'frog' 'horse' 'ship'\n",
      " 'truck'] \n",
      " ----------------------------------------\n",
      "[[896   7  21   9   3   0   2   7  39  16]\n",
      " [ 12 926   3   5   1   3   3   1   7  39]\n",
      " [ 23   3 859  36  30  11  24  10   3   1]\n",
      " [ 15   7  24 799  25  73  23  17  11   6]\n",
      " [  5   1  25  32 856  11  27  37   4   2]\n",
      " [  9   0  15  94  15 823  14  26   3   1]\n",
      " [  8   1  30  25  15  13 900   3   3   2]\n",
      " [  9   0  13  20  22  22   5 902   2   5]\n",
      " [ 44  12   3   6   2   1   2   2 912  16]\n",
      " [ 21  43   3   0   1   2   1   3   8 918]]\n"
     ]
    }
   ],
   "source": [
    "cm_array = confusion_matrix(correct, prediction)\n",
    "print(labels, '\\n' , '-' * 40)\n",
    "print(cm_array)"
   ]
  },
  {
   "cell_type": "markdown",
   "metadata": {},
   "source": [
    "Now we can visualize the confusion matrix using pyploy:"
   ]
  },
  {
   "cell_type": "code",
   "execution_count": 4,
   "metadata": {
    "collapsed": false
   },
   "outputs": [
    {
     "data": {
      "image/png": "[encoded data removed]",
      "text/plain": [
       "<matplotlib.figure.Figure at 0xb6d7160>"
      ]
     },
     "metadata": {},
     "output_type": "display_data"
    }
   ],
   "source": [
    "plt.imshow(cm_array, interpolation='nearest', cmap=plt.cm.Blues)\n",
    "\n",
    "plt.title(\"Confusion Matrix\", fontsize=12)\n",
    "\n",
    "xtick_marks = np.arange(len(labels))\n",
    "ytick_marks = np.arange(len(labels))\n",
    "\n",
    "plt.xticks(xtick_marks, labels, rotation=90, fontsize=14)\n",
    "plt.yticks(ytick_marks, labels, fontsize=14)\n",
    "\n",
    "plt.ylabel('True label', fontsize=16)\n",
    "plt.xlabel('Predicted label', fontsize=16)\n",
    "\n",
    "cbar = plt.colorbar(fraction=0.046, pad=0.04)\n",
    "cbar.set_label('Number of images', rotation=270, labelpad=30, fontsize=12)\n",
    "\n",
    "plt.tight_layout()\n",
    "plt.show()"
   ]
  },
  {
   "cell_type": "markdown",
   "metadata": {},
   "source": [
    "The acccuracy for this experiment was 87.9%."
   ]
  }
 ],
 "metadata": {
  "kernelspec": {
   "display_name": "Python 3",
   "language": "python",
   "name": "python3"
  },
  "language_info": {
   "codemirror_mode": {
    "name": "ipython",
    "version": 3
   },
   "file_extension": ".py",
   "mimetype": "text/x-python",
   "name": "python",
   "nbconvert_exporter": "python",
   "pygments_lexer": "ipython3",
   "version": "3.5.2"
  }
 },
 "nbformat": 4,
 "nbformat_minor": 2
}
